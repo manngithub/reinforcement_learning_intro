{
 "cells": [
  {
   "cell_type": "markdown",
   "metadata": {},
   "source": [
    "# Introduction to OpenAI Gym\n",
    "wiki link: https://github.com/openai/gym/wiki"
   ]
  },
  {
   "cell_type": "code",
   "execution_count": 1,
   "metadata": {},
   "outputs": [],
   "source": [
    "import gym"
   ]
  },
  {
   "cell_type": "markdown",
   "metadata": {},
   "source": [
    "## Environment\n",
    "Example: CartPole\n",
    "\n",
    "Category: Classic Control\n",
    "\n",
    "<img src=\"CartPole.png\">\n",
    "\n",
    "### Description\n",
    "A pole is attached by an un-actuated joint to a cart, which moves along a frictionless track. The pendulum starts upright, and the goal is to prevent it from falling over by increasing and reducing the cart's velocity.\n",
    "\n",
    "### Source\n",
    "This environment corresponds to the version of the cart-pole problem described by Barto, Sutton, and Anderson"
   ]
  },
  {
   "cell_type": "code",
   "execution_count": 8,
   "metadata": {},
   "outputs": [
    {
     "name": "stdout",
     "output_type": "stream",
     "text": [
      "<TimeLimit<CartPoleEnv<CartPole-v0>>>\n"
     ]
    }
   ],
   "source": [
    "# CartPole\n",
    "env = gym.make('CartPole-v0')\n",
    "print(env)"
   ]
  },
  {
   "cell_type": "markdown",
   "metadata": {},
   "source": [
    "### State"
   ]
  },
  {
   "cell_type": "raw",
   "metadata": {},
   "source": [
    "Num Observation             Min      Max\n",
    "0   Cart Position          -4.8      4.8\n",
    "1   Cart Velocity          -Inf      Inf\n",
    "2   Pole Angle          ~ -41.8°   ~ 41.8°\n",
    "3   Pole Velocity At Tip   -Inf      Inf"
   ]
  },
  {
   "cell_type": "code",
   "execution_count": 3,
   "metadata": {},
   "outputs": [
    {
     "data": {
      "text/plain": [
       "Box(4,)"
      ]
     },
     "execution_count": 3,
     "metadata": {},
     "output_type": "execute_result"
    }
   ],
   "source": [
    "# State/Observation Space (Fully Observable)\n",
    "\n",
    "env.observation_space"
   ]
  },
  {
   "cell_type": "code",
   "execution_count": 4,
   "metadata": {},
   "outputs": [
    {
     "name": "stdout",
     "output_type": "stream",
     "text": [
      "State Vector Shape: (4,)\n",
      "Low Limits: [-4.8000002e+00 -3.4028235e+38 -4.1887903e-01 -3.4028235e+38]\n",
      "High Limits: [4.8000002e+00 3.4028235e+38 4.1887903e-01 3.4028235e+38]\n",
      "Draw a Sample: [-4.1203725e-01  1.2965357e+38 -3.5606518e-01 -1.0758932e+38]\n"
     ]
    }
   ],
   "source": [
    "print('State Vector Shape:', env.observation_space.shape)\n",
    "print('Low Limits:', env.observation_space.low)\n",
    "print('High Limits:', env.observation_space.high)\n",
    "print('Draw a Sample:', env.observation_space.sample())"
   ]
  },
  {
   "cell_type": "markdown",
   "metadata": {},
   "source": [
    "## Action"
   ]
  },
  {
   "cell_type": "raw",
   "metadata": {},
   "source": [
    "Num   Action\n",
    "0     Push cart to the left\n",
    "1     Push cart to the right\n",
    "\n",
    "Note: The amount the velocity is reduced or increased is not fixed as it depends on the angle the pole is pointing. This is because the center of gravity of the pole increases the amount of energy needed to move the cart underneath it"
   ]
  },
  {
   "cell_type": "markdown",
   "metadata": {},
   "source": [
    "env.action_space"
   ]
  },
  {
   "cell_type": "code",
   "execution_count": 5,
   "metadata": {},
   "outputs": [
    {
     "name": "stdout",
     "output_type": "stream",
     "text": [
      "Number of Actions: 2\n",
      "Draw an Action: 1\n"
     ]
    }
   ],
   "source": [
    "print('Number of Actions:', env.action_space.n)\n",
    "print('Draw an Action:', env.action_space.sample())"
   ]
  },
  {
   "cell_type": "markdown",
   "metadata": {},
   "source": [
    "## Act and Observe"
   ]
  },
  {
   "cell_type": "markdown",
   "metadata": {},
   "source": [
    "The core gym interface is Env, which is the unified environment interface. There is no interface for agents; that part is left to you. The following are the Env methods you should know:\n",
    "\n",
    "* reset(self): Reset the environment's state. Returns observation.\n",
    "* step(self, action): Step the environment by one timestep. Returns observation, reward, done, info.\n",
    "* render(self, mode='human'): Render one frame of the environment. The default mode will do something human friendly, such as pop up a window.\n",
    "\n",
    "Starting State: All observations are assigned a uniform random value between ±0.05\n",
    "\n",
    "<img src=\"RL.png\">"
   ]
  },
  {
   "cell_type": "code",
   "execution_count": 6,
   "metadata": {},
   "outputs": [
    {
     "data": {
      "text/plain": [
       "array([ 0.01003332, -0.03823305, -0.01277908,  0.02764704])"
      ]
     },
     "execution_count": 6,
     "metadata": {},
     "output_type": "execute_result"
    }
   ],
   "source": [
    "# reset environment\n",
    "env.reset()"
   ]
  },
  {
   "cell_type": "code",
   "execution_count": 7,
   "metadata": {},
   "outputs": [
    {
     "name": "stdout",
     "output_type": "stream",
     "text": [
      "Observation: [ 0.00926866 -0.23316943 -0.01222614  0.31627079]\n",
      "Reward: 1.0\n",
      "Done?: False\n"
     ]
    }
   ],
   "source": [
    "# take an action\n",
    "observation, reward, done, info = env.step(0)\n",
    "print('Observation:', observation)\n",
    "print('Reward:', reward)\n",
    "print('Done?:',done)"
   ]
  },
  {
   "cell_type": "markdown",
   "metadata": {},
   "source": [
    "## Reward\n",
    "Reward is 1 for every step taken, including the termination step"
   ]
  },
  {
   "cell_type": "markdown",
   "metadata": {},
   "source": [
    "## Episode Termination\n",
    "* Pole Angle is more than ±12°\n",
    "* Cart Position is more than ±2.4 (center of the cart reaches the edge of the display)\n",
    "* Episode length is greater than 200\n",
    "\n",
    "** Please check these limits as gym makes updates time to time.** "
   ]
  },
  {
   "cell_type": "code",
   "execution_count": 10,
   "metadata": {},
   "outputs": [
    {
     "name": "stdout",
     "output_type": "stream",
     "text": [
      "200\n"
     ]
    }
   ],
   "source": [
    "print(env.spec.max_episode_steps)"
   ]
  },
  {
   "cell_type": "code",
   "execution_count": null,
   "metadata": {},
   "outputs": [],
   "source": []
  }
 ],
 "metadata": {
  "kernelspec": {
   "display_name": "Python 3",
   "language": "python",
   "name": "python3"
  },
  "language_info": {
   "codemirror_mode": {
    "name": "ipython",
    "version": 3
   },
   "file_extension": ".py",
   "mimetype": "text/x-python",
   "name": "python",
   "nbconvert_exporter": "python",
   "pygments_lexer": "ipython3",
   "version": "3.7.4"
  }
 },
 "nbformat": 4,
 "nbformat_minor": 4
}
